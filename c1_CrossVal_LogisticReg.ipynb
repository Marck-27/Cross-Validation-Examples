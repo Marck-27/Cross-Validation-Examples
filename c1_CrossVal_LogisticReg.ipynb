{
 "metadata": {
  "language_info": {
   "codemirror_mode": {
    "name": "ipython",
    "version": 3
   },
   "file_extension": ".py",
   "mimetype": "text/x-python",
   "name": "python",
   "nbconvert_exporter": "python",
   "pygments_lexer": "ipython3",
   "version": "3.8.10"
  },
  "orig_nbformat": 4,
  "kernelspec": {
   "name": "python3",
   "display_name": "Python 3.8.10 64-bit"
  },
  "interpreter": {
   "hash": "31f2aee4e71d21fbe5cf8b01ff0e069b9275f58929596ceb00d14d90e3e16cd6"
  }
 },
 "nbformat": 4,
 "nbformat_minor": 2,
 "cells": [
  {
   "cell_type": "markdown",
   "source": [
    "# Proyecto: Cross Validation con Regresión Logística (Clasificación de especies de flores)\n",
    "\n",
    "## Después de entrenar un algoritmo es importante asignarle una calificación (o nivel de confinaza)\n",
    "## para saber con que precisión seran sus predicciones. Para esto usaremos la técnica Validación Cruzada\n",
    "## o \"Cross Validation\" https://scikit-learn.org/stable/modules/cross_validation.html \n",
    "\n",
    "## A continuación veremos el uso de las funciones `KFold` y `cross_val_score` para realizar validación cruzada  "
   ],
   "metadata": {}
  },
  {
   "cell_type": "code",
   "execution_count": 1,
   "source": [
    "from sklearn import datasets, metrics\n",
    "from sklearn.model_selection import train_test_split\n",
    "from sklearn.model_selection import cross_val_score\n",
    "from sklearn.model_selection import KFold\n",
    "from sklearn.linear_model import LogisticRegression\n",
    "\n",
    "# Importamos metrica de 'Matriz de confusión' para evaluar el aprendizaje:\n",
    "from sklearn.metrics import confusion_matrix\n",
    "\n",
    "import matplotlib.pyplot as plt\n",
    "\n",
    "import numpy as np"
   ],
   "outputs": [],
   "metadata": {}
  },
  {
   "cell_type": "code",
   "execution_count": 2,
   "source": [
    "# Cargamos datos:\n",
    "iris = datasets.load_iris()\n",
    " \n",
    "# Separamos Datos para entrenamiento y Pruebas:\n",
    "X_train, X_test, y_train, y_test = train_test_split(iris.data, iris.target, test_size=0.2, random_state=0)"
   ],
   "outputs": [],
   "metadata": {}
  },
  {
   "cell_type": "code",
   "execution_count": 3,
   "source": [
    "# Detectamos el numero de Clases:\n",
    "np.unique(y_train)"
   ],
   "outputs": [
    {
     "output_type": "execute_result",
     "data": {
      "text/plain": [
       "array([0, 1, 2])"
      ]
     },
     "metadata": {},
     "execution_count": 3
    }
   ],
   "metadata": {}
  },
  {
   "cell_type": "code",
   "execution_count": 4,
   "source": [
    "Clases = ['clase 1','clase 2', 'clase 3']\n",
    "n_clases =len(Clases)"
   ],
   "outputs": [],
   "metadata": {}
  },
  {
   "cell_type": "code",
   "execution_count": 5,
   "source": [
    "# Definimos el clasificador:\n",
    "clf = LogisticRegression()"
   ],
   "outputs": [],
   "metadata": {}
  },
  {
   "cell_type": "code",
   "execution_count": null,
   "source": [
    "# Entrenamos con datos de entrenamiento:\n",
    "clf.fit(X_train, y_train)"
   ],
   "outputs": [],
   "metadata": {}
  },
  {
   "cell_type": "code",
   "execution_count": 7,
   "source": [
    "# Evaluamnos el aprendizaje con los datos de entrenamiento:\n",
    "\n",
    "score_train = clf.score(X_train,y_train)\n",
    " \n",
    "print('Accuracy con datos de entrenamiento', score_train)"
   ],
   "outputs": [
    {
     "output_type": "stream",
     "name": "stdout",
     "text": [
      "Accuracy con datos de entrenamiento 0.9666666666666667\n"
     ]
    }
   ],
   "metadata": {}
  },
  {
   "cell_type": "code",
   "execution_count": 8,
   "source": [
    "# Evaluamos el aprendizaje con los datos de pruebas:\n",
    "\n",
    "y_test_predict = clf.predict(X_test)\n",
    " \n",
    "score_test = metrics.accuracy_score(y_test, y_test_predict)\n",
    " \n",
    "print('Accuracy con datos de prueba', score_test)"
   ],
   "outputs": [
    {
     "output_type": "stream",
     "name": "stdout",
     "text": [
      "Accuracy con datos de prueba 1.0\n"
     ]
    }
   ],
   "metadata": {}
  },
  {
   "cell_type": "code",
   "execution_count": 9,
   "source": [
    "y_test"
   ],
   "outputs": [
    {
     "output_type": "execute_result",
     "data": {
      "text/plain": [
       "array([2, 1, 0, 2, 0, 2, 0, 1, 1, 1, 2, 1, 1, 1, 1, 0, 1, 1, 0, 0, 2, 1,\n",
       "       0, 0, 2, 0, 0, 1, 1, 0])"
      ]
     },
     "metadata": {},
     "execution_count": 9
    }
   ],
   "metadata": {}
  },
  {
   "cell_type": "code",
   "execution_count": 10,
   "source": [
    "y_test_predict"
   ],
   "outputs": [
    {
     "output_type": "execute_result",
     "data": {
      "text/plain": [
       "array([2, 1, 0, 2, 0, 2, 0, 1, 1, 1, 2, 1, 1, 1, 1, 0, 1, 1, 0, 0, 2, 1,\n",
       "       0, 0, 2, 0, 0, 1, 1, 0])"
      ]
     },
     "metadata": {},
     "execution_count": 10
    }
   ],
   "metadata": {}
  },
  {
   "cell_type": "markdown",
   "source": [
    "La diferencia entre el accuracy con los datos de entrenamiento y pruebas es mínimo, por lo tanto no hay Overfitting!"
   ],
   "metadata": {}
  },
  {
   "cell_type": "markdown",
   "source": [
    "## Realizamos una prueba de Cross Validation para validar el aprendizaje del modelo:"
   ],
   "metadata": {}
  },
  {
   "cell_type": "code",
   "execution_count": 11,
   "source": [
    "# Definimos el clasificador K-Fold:\n",
    "kf = KFold(n_splits=5)"
   ],
   "outputs": [],
   "metadata": {}
  },
  {
   "cell_type": "code",
   "execution_count": null,
   "source": [
    "# Aplicamos el clasificador a los datos de entrenamiento:\n",
    "scores = cross_val_score(clf, X_train, y_train, cv=kf, scoring='accuracy')"
   ],
   "outputs": [],
   "metadata": {}
  },
  {
   "cell_type": "code",
   "execution_count": 13,
   "source": [
    "print(\"Accuracy en cada iteración de Cross-Validation:\", scores)\n",
    " \n",
    "print(\"Accuracy final con Cross-Validation:\", scores.mean())"
   ],
   "outputs": [
    {
     "output_type": "stream",
     "name": "stdout",
     "text": [
      "Accuracy en cada iteración de Cross-Validation: [0.95833333 0.95833333 1.         1.         0.875     ]\n",
      "Accuracy final con Cross-Validation: 0.9583333333333334\n"
     ]
    }
   ],
   "metadata": {}
  },
  {
   "cell_type": "code",
   "execution_count": 14,
   "source": [
    "# Generamos matriz de confusión usando los nombres de las etiquetas de prueba y predichas:\n",
    "MC_RF = confusion_matrix(y_test, y_test_predict)\n",
    "print('Matriz de confusión: \\n',MC_RF)"
   ],
   "outputs": [
    {
     "output_type": "stream",
     "name": "stdout",
     "text": [
      "Matriz de confusión: \n",
      " [[11  0  0]\n",
      " [ 0 13  0]\n",
      " [ 0  0  6]]\n"
     ]
    }
   ],
   "metadata": {}
  },
  {
   "cell_type": "code",
   "execution_count": 16,
   "source": [
    "# Graficamos matriz de confusión:\n",
    "\n",
    "plt.figure()\n",
    "plt.imshow(MC_RF)\n",
    "plt.title('matriz de confusion con LogisticRegression ')\n",
    "\n",
    "plt.xticks( range( n_clases ), Clases )\n",
    "plt.yticks( range( n_clases ), Clases )\n",
    "\n",
    "for i in range( n_clases ):\n",
    "    for j in range( n_clases):\n",
    "        plt.text(j,i, MC_RF[i,j] , color='red')\n",
    "\n",
    "plt.show()"
   ],
   "outputs": [
    {
     "output_type": "display_data",
     "data": {
      "text/plain": [
       "<Figure size 432x288 with 1 Axes>"
      ],
      "image/png": "[encoded data removed]"
     },
     "metadata": {
      "needs_background": "light"
     }
    }
   ],
   "metadata": {}
  },
  {
   "cell_type": "code",
   "execution_count": null,
   "source": [],
   "outputs": [],
   "metadata": {}
  }
 ]
}