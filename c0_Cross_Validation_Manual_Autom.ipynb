{
 "metadata": {
  "language_info": {
   "codemirror_mode": {
    "name": "ipython",
    "version": 3
   },
   "file_extension": ".py",
   "mimetype": "text/x-python",
   "name": "python",
   "nbconvert_exporter": "python",
   "pygments_lexer": "ipython3",
   "version": "3.8.10"
  },
  "orig_nbformat": 4,
  "kernelspec": {
   "name": "python3",
   "display_name": "Python 3.8.10 64-bit"
  },
  "interpreter": {
   "hash": "31f2aee4e71d21fbe5cf8b01ff0e069b9275f58929596ceb00d14d90e3e16cd6"
  }
 },
 "nbformat": 4,
 "nbformat_minor": 2,
 "cells": [
  {
   "cell_type": "markdown",
   "source": [
    "# Proyecto: Cross Validation con Regresión Lineal\n",
    "\n",
    "## Después de entrenar un algoritmo es importante asignarle una calificación (o nivel de confinaza)\n",
    "## para saber con que precisión seran sus predicciones. Para esto usaremos la técnica Validación Cruzada\n",
    "## o \"Cross Validation\" https://scikit-learn.org/stable/modules/cross_validation.html \n",
    "\n",
    "## A continuación veremos la estructura básica del proceso de validación cruzada. \n",
    "\n",
    "## Mostraremos un ejemplo con sólo 10 datos para poder visualizar el efecto de  la Validación Cruzada en los índices de los datos.\n",
    "\n",
    "## Primero lo haremos manualmente constuyendeo el ciclo 'for' correspondiente a los diferentes\n",
    "## conjuntos de entrenamiento y pruebas que se generan con `KFold.split()`\n",
    "## Posteriormente lo haremos de forma automática usando las funciones: `cross_val_score` y `cross_val_predict`"
   ],
   "metadata": {}
  },
  {
   "cell_type": "code",
   "execution_count": 12,
   "source": [
    "# paquete que contiene el modelo de regresión lineal\n",
    "from sklearn import linear_model, metrics\n",
    "\n",
    "# importar metricas de error y precision:\n",
    "from sklearn.metrics import mean_squared_error, r2_score\n",
    "\n",
    "# función para separar los datos en Cross-Validation:\n",
    "from sklearn.model_selection import KFold\n",
    "\n",
    "from sklearn.model_selection import cross_val_score , cross_val_predict \n",
    "\n",
    "from sklearn.model_selection import train_test_split\n",
    "\n",
    "import pandas as pd \n",
    "\n",
    "import numpy as np "
   ],
   "outputs": [],
   "metadata": {}
  },
  {
   "cell_type": "code",
   "execution_count": 2,
   "source": [
    "# Cargamos datos:\n",
    "df = pd.read_csv('./Data_bases/moviesc10.csv')\n",
    "df#.head()"
   ],
   "outputs": [
    {
     "output_type": "execute_result",
     "data": {
      "text/plain": [
       "   cast_total_facebook_likes  imdb_score\n",
       "0                     108016         5.4\n",
       "1                     303717         5.2\n",
       "2                     656730         7.2\n",
       "3                     137712         5.7\n",
       "4                     120797         6.0\n",
       "5                     140268         6.0\n",
       "6                     170118         6.4\n",
       "7                     261818         9.1\n",
       "8                     263584         5.6\n",
       "9                     283939         3.9"
      ],
      "text/html": [
       "<div>\n",
       "<style scoped>\n",
       "    .dataframe tbody tr th:only-of-type {\n",
       "        vertical-align: middle;\n",
       "    }\n",
       "\n",
       "    .dataframe tbody tr th {\n",
       "        vertical-align: top;\n",
       "    }\n",
       "\n",
       "    .dataframe thead th {\n",
       "        text-align: right;\n",
       "    }\n",
       "</style>\n",
       "<table border=\"1\" class=\"dataframe\">\n",
       "  <thead>\n",
       "    <tr style=\"text-align: right;\">\n",
       "      <th></th>\n",
       "      <th>cast_total_facebook_likes</th>\n",
       "      <th>imdb_score</th>\n",
       "    </tr>\n",
       "  </thead>\n",
       "  <tbody>\n",
       "    <tr>\n",
       "      <th>0</th>\n",
       "      <td>108016</td>\n",
       "      <td>5.4</td>\n",
       "    </tr>\n",
       "    <tr>\n",
       "      <th>1</th>\n",
       "      <td>303717</td>\n",
       "      <td>5.2</td>\n",
       "    </tr>\n",
       "    <tr>\n",
       "      <th>2</th>\n",
       "      <td>656730</td>\n",
       "      <td>7.2</td>\n",
       "    </tr>\n",
       "    <tr>\n",
       "      <th>3</th>\n",
       "      <td>137712</td>\n",
       "      <td>5.7</td>\n",
       "    </tr>\n",
       "    <tr>\n",
       "      <th>4</th>\n",
       "      <td>120797</td>\n",
       "      <td>6.0</td>\n",
       "    </tr>\n",
       "    <tr>\n",
       "      <th>5</th>\n",
       "      <td>140268</td>\n",
       "      <td>6.0</td>\n",
       "    </tr>\n",
       "    <tr>\n",
       "      <th>6</th>\n",
       "      <td>170118</td>\n",
       "      <td>6.4</td>\n",
       "    </tr>\n",
       "    <tr>\n",
       "      <th>7</th>\n",
       "      <td>261818</td>\n",
       "      <td>9.1</td>\n",
       "    </tr>\n",
       "    <tr>\n",
       "      <th>8</th>\n",
       "      <td>263584</td>\n",
       "      <td>5.6</td>\n",
       "    </tr>\n",
       "    <tr>\n",
       "      <th>9</th>\n",
       "      <td>283939</td>\n",
       "      <td>3.9</td>\n",
       "    </tr>\n",
       "  </tbody>\n",
       "</table>\n",
       "</div>"
      ]
     },
     "metadata": {},
     "execution_count": 2
    }
   ],
   "metadata": {}
  },
  {
   "cell_type": "code",
   "execution_count": 3,
   "source": [
    "# Extraemos features y labels:\n",
    "features = df['cast_total_facebook_likes'].values\n",
    "labels = df['imdb_score'].values\n",
    "\n",
    "\n",
    "# Redimensionamos los features como vectores columna (OBLIGATORIO PARA REGRESION LINEAL 1D):\n",
    "features = features.reshape([ len(features) , 1 ])"
   ],
   "outputs": [],
   "metadata": {}
  },
  {
   "cell_type": "code",
   "execution_count": 4,
   "source": [
    "# Separamos Datos para entrenamiento y Pruebas:\n",
    "X_train, X_test, y_train, y_test = train_test_split( features, labels, test_size=0.2, random_state=0)"
   ],
   "outputs": [],
   "metadata": {}
  },
  {
   "cell_type": "markdown",
   "source": [
    "## Declaramos el modelo y lo entrenamos:"
   ],
   "metadata": {}
  },
  {
   "cell_type": "code",
   "execution_count": 5,
   "source": [
    "# Declaramos el modelo de regresion lineal:\n",
    "regr = linear_model.LinearRegression()"
   ],
   "outputs": [],
   "metadata": {}
  },
  {
   "cell_type": "code",
   "execution_count": 6,
   "source": [
    "# Entrenamos el modelo con los datos de entrenamiento: \n",
    "regr.fit(X_train , y_train)"
   ],
   "outputs": [
    {
     "output_type": "execute_result",
     "data": {
      "text/plain": [
       "LinearRegression()"
      ]
     },
     "metadata": {},
     "execution_count": 6
    }
   ],
   "metadata": {}
  },
  {
   "cell_type": "markdown",
   "source": [
    "## Evaluamos el aprendizaje del modelo (usando la función `score`):"
   ],
   "metadata": {}
  },
  {
   "cell_type": "code",
   "execution_count": 7,
   "source": [
    "# Evaluación con datos de entrenamiento:\n",
    "acc_train = regr.score(X_train , y_train)\n",
    "\n",
    "# Evaluación con datos de prueba:\n",
    "acc_test = regr.score(X_test , y_test)\n",
    "\n",
    "print('Accuracy con datos de entrenamiento:', acc_train)\n",
    "print('Accuracy con datos de prueba:', acc_test)"
   ],
   "outputs": [
    {
     "output_type": "stream",
     "name": "stdout",
     "text": [
      "Accuracy con datos de entrenamiento: 0.0001062042440163058\n",
      "Accuracy con datos de prueba: -0.47041399147274654\n"
     ]
    }
   ],
   "metadata": {}
  },
  {
   "cell_type": "markdown",
   "source": [
    "## Evaluamos el aprendizaje del modelo mediante Cross Validation:"
   ],
   "metadata": {}
  },
  {
   "cell_type": "code",
   "execution_count": 8,
   "source": [
    "# Definimos el separador K-Fold para hacer Cross-Validation:\n",
    "\n",
    "n_subsets = 5 # numero de particiones para K-fold\n",
    "\n",
    "kf = KFold(n_splits= n_subsets )#, shuffle=True, random_state=2)"
   ],
   "outputs": [],
   "metadata": {}
  },
  {
   "cell_type": "code",
   "execution_count": 9,
   "source": [
    "# A continuación mostramos la separación de indices de entrenamiento y pruebas \n",
    "# que se usan en el proceso de Validación Cruzada mediante K-fold:\n",
    "\n",
    "k=1\n",
    "for id_train, id_test in kf.split(df):\n",
    "    print('\\nFold',k)\n",
    "    print('Indices_train:',id_train)\n",
    "    print('Indices_test' , id_test)\n",
    "    k = k+1"
   ],
   "outputs": [
    {
     "output_type": "stream",
     "name": "stdout",
     "text": [
      "\n",
      "Fold 1\n",
      "Indices_train: [2 3 4 5 6 7 8 9]\n",
      "Indices_test [0 1]\n",
      "\n",
      "Fold 2\n",
      "Indices_train: [0 1 4 5 6 7 8 9]\n",
      "Indices_test [2 3]\n",
      "\n",
      "Fold 3\n",
      "Indices_train: [0 1 2 3 6 7 8 9]\n",
      "Indices_test [4 5]\n",
      "\n",
      "Fold 4\n",
      "Indices_train: [0 1 2 3 4 5 8 9]\n",
      "Indices_test [6 7]\n",
      "\n",
      "Fold 5\n",
      "Indices_train: [0 1 2 3 4 5 6 7]\n",
      "Indices_test [8 9]\n"
     ]
    }
   ],
   "metadata": {}
  },
  {
   "cell_type": "markdown",
   "source": [
    "# Proceso de Validación Cruzada usando un \"ciclo for\":"
   ],
   "metadata": {}
  },
  {
   "cell_type": "code",
   "execution_count": 10,
   "source": [
    "# Construimos el ciclo en donde se realiza la Cross-Validation:\n",
    "\n",
    "loss = []\n",
    "acc = []\n",
    "\n",
    "k=1\n",
    "for id_train, id_test in kf.split(df):\n",
    "    \n",
    "    # ***************** Entrenamiento *****************\n",
    "    # numero de datos de entrenamiento:\n",
    "    nk_train = len(id_train)\n",
    "\n",
    "    # Extraemos features de entrenamiento:\n",
    "    xk_train = features[id_train]\n",
    "\n",
    "    # Extraemos labels de entrenamiento:\n",
    "    yk_train = labels[id_train]    \n",
    "\n",
    "    # Entrenamos:\n",
    "    regr.fit(xk_train, yk_train)\n",
    "\n",
    "    # ***************** Pruebas *****************\n",
    "    # numero de datos de prueba:\n",
    "    nk_test = len(id_test)\n",
    "\n",
    "    # Extraemos features de prueba:\n",
    "    xk_test = features[id_test]\n",
    "\n",
    "    # Predecimos con datos de prueba:\n",
    "    yk_test_pred = regr.predict(xk_test)    \n",
    "    \n",
    "    # Extraemos labels de pruebas:\n",
    "    yk_test = labels[id_test]\n",
    "\n",
    "    # ***************** Metricas *****************\n",
    "    # Error:\n",
    "    loss_k = mean_squared_error(yk_test, yk_test_pred)\n",
    "    \n",
    "    # Precisión:\n",
    "    accuracy_k = r2_score(yk_test, yk_test_pred)\n",
    "    # El accuracy también se puede obtener con: 'regr.score(xk_test, yk_test)'\n",
    "\n",
    "    # Agregamos valores a las lista de loss y accuracy:\n",
    "    loss.append( loss_k )\n",
    "    acc.append( accuracy_k )\n",
    "\n",
    "    print('\\nFold',k)\n",
    "    print('y_test_pred=',yk_test_pred)\n",
    "    print('loss',loss_k)\n",
    "    print('accuracy', accuracy_k)\n",
    "\n",
    "    k = k+1"
   ],
   "outputs": [
    {
     "output_type": "stream",
     "name": "stdout",
     "text": [
      "\n",
      "Fold 1\n",
      "y_test_pred= [5.93627307 6.33906431]\n",
      "loss 0.7925281551372426\n",
      "accuracy -78.25281551372412\n",
      "\n",
      "Fold 2\n",
      "y_test_pred= [5.47278461 6.0229502 ]\n",
      "loss 1.5437849205920788\n",
      "accuracy -1.744506525497029\n",
      "\n",
      "Fold 3\n",
      "y_test_pred= [5.70473911 5.75044535]\n",
      "loss 0.07472825672768767\n",
      "accuracy 0.0\n",
      "\n",
      "Fold 4\n",
      "y_test_pred= [5.45074024 5.64626371]\n",
      "loss 6.414694226270729\n",
      "accuracy -2.5197224835504706\n",
      "\n",
      "Fold 5\n",
      "y_test_pred= [6.44256213 6.49507778]\n",
      "loss 3.722169801942026\n",
      "accuracy -4.151792113414571\n"
     ]
    }
   ],
   "metadata": {}
  },
  {
   "cell_type": "code",
   "execution_count": 13,
   "source": [
    "# Accuracy y Loss:\n",
    "loss = np.mean(loss)\n",
    "acc = np.mean(acc)\n",
    "\n",
    "print(\"Error promedio \",loss)\n",
    "\n",
    "print(\"Precisión promedio \",acc)\n"
   ],
   "outputs": [
    {
     "output_type": "stream",
     "name": "stdout",
     "text": [
      "Error promedio  2.509581072133953\n",
      "Precisión promedio  -17.333767327237236\n"
     ]
    }
   ],
   "metadata": {}
  },
  {
   "cell_type": "markdown",
   "source": [
    "# Proceso de Validación Cruzada usando las funciones: `cross_val_score` y `cross_val_predict`\n"
   ],
   "metadata": {}
  },
  {
   "cell_type": "code",
   "execution_count": 14,
   "source": [
    "# Obtenemos la precisión en cada subconjunto de entrenamiento y pruebas del Cross Validation:\n",
    "acc_CV = cross_val_score( regr , features, labels , cv=kf )\n",
    "print(acc_CV)"
   ],
   "outputs": [
    {
     "output_type": "stream",
     "name": "stdout",
     "text": [
      "[-78.25281551  -1.74450653   0.          -2.51972248  -4.15179211]\n"
     ]
    }
   ],
   "metadata": {}
  },
  {
   "cell_type": "code",
   "execution_count": 15,
   "source": [
    "# Predicciones de labels correspondientes a los features de prueba en cada \n",
    "# conjunto de cross-validation\n",
    "pred_CV = cross_val_predict(regr , features, labels , cv=kf)\n",
    "\n",
    "print(pred_CV)"
   ],
   "outputs": [
    {
     "output_type": "stream",
     "name": "stdout",
     "text": [
      "[5.93627307 6.33906431 5.47278461 6.0229502  5.70473911 5.75044535\n",
      " 5.45074024 5.64626371 6.44256213 6.49507778]\n"
     ]
    }
   ],
   "metadata": {}
  },
  {
   "cell_type": "code",
   "execution_count": 17,
   "source": [
    "# Accuracy y Loss:\n",
    "acc_Real = np.mean(acc_CV)\n",
    "\n",
    "print(\"Precisión promedio \",acc_Real)"
   ],
   "outputs": [
    {
     "output_type": "stream",
     "name": "stdout",
     "text": [
      "Precisión promedio  -17.333767327237236\n"
     ]
    }
   ],
   "metadata": {}
  },
  {
   "cell_type": "code",
   "execution_count": null,
   "source": [],
   "outputs": [],
   "metadata": {}
  }
 ]
}