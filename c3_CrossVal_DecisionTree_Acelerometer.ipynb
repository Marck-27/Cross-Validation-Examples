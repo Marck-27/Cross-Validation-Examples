{
 "cells": [
  {
   "cell_type": "markdown",
   "source": [
    "# Proyecto: Cross Validation con Decision Tree (Clasificación múltiple sobre el estado de movimiento de una persona de acuerdo a los parámetros de un acelerómetro)\n",
    "\n",
    "## Después de entrenar un algoritmo es importante asignarle una calificación (o nivel de confinaza)\n",
    "## para saber con que precisión seran sus predicciones. Para esto usaremos la técnica Validación Cruzada\n",
    "## o \"Cross Validation\" https://scikit-learn.org/stable/modules/cross_validation.html \n",
    "\n",
    "## A continuación veremos el uso de las funciones `KFold` y `cross_val_score` para realizar validación cruzada  \n",
    "\n",
    "## * En esta practica trabajaremos con una base de datos cuyas etiquetas no son numéricas, así que veremos como usar la función `pd.get_dummies()` para codificar las etiquetas con valores numéricos y poderlos usar en el entrenamiento"
   ],
   "metadata": {}
  },
  {
   "cell_type": "code",
   "execution_count": 1,
   "source": [
    "import pandas as pd\n",
    "\n",
    "import matplotlib.pyplot as plt\n",
    "\n",
    "from sklearn.model_selection import train_test_split\n",
    "\n",
    "# función para separar los datos en Cross-Validation:\n",
    "from sklearn.model_selection import KFold, cross_val_score\n",
    "\n",
    "# Librería para usar el clasificador de árboles de decisión:\n",
    "from sklearn import tree\n",
    "from sklearn.tree import DecisionTreeClassifier\n",
    "\n",
    "# Importamos metrica de 'Matriz de confusión' para evaluar el aprendizaje:\n",
    "from sklearn.metrics import confusion_matrix\n",
    "\n",
    "# importamos función que estandariza los datos,\n",
    "# ie. resta la media y divide por la desviación estandar (columna por columna)\n",
    "from sklearn.preprocessing import StandardScaler"
   ],
   "outputs": [],
   "metadata": {}
  },
  {
   "cell_type": "code",
   "execution_count": 2,
   "source": [
    "# Cargamos datos:\n",
    "df = pd.read_csv('./Data_bases/accelerometer_walking_training_set.csv')\n",
    "df"
   ],
   "outputs": [
    {
     "output_type": "execute_result",
     "data": {
      "text/plain": [
       "       aX     aY     aZ    label\n",
       "0   -4.10   8.07 -16.36  running\n",
       "1   -2.34   9.69  -0.33  running\n",
       "2    0.00   0.01  -0.01  resting\n",
       "3   -2.38  -0.54   0.65  walking\n",
       "4   -0.70  12.93  -4.91  running\n",
       "..    ...    ...    ...      ...\n",
       "445 -0.01   0.00  -0.03  resting\n",
       "446 -8.19   6.17 -18.84  running\n",
       "447 -0.80  13.34  -0.49  running\n",
       "448  0.00   0.00  -0.03  resting\n",
       "449 -0.01  -0.02  -0.07  resting\n",
       "\n",
       "[450 rows x 4 columns]"
      ],
      "text/html": [
       "<div>\n",
       "<style scoped>\n",
       "    .dataframe tbody tr th:only-of-type {\n",
       "        vertical-align: middle;\n",
       "    }\n",
       "\n",
       "    .dataframe tbody tr th {\n",
       "        vertical-align: top;\n",
       "    }\n",
       "\n",
       "    .dataframe thead th {\n",
       "        text-align: right;\n",
       "    }\n",
       "</style>\n",
       "<table border=\"1\" class=\"dataframe\">\n",
       "  <thead>\n",
       "    <tr style=\"text-align: right;\">\n",
       "      <th></th>\n",
       "      <th>aX</th>\n",
       "      <th>aY</th>\n",
       "      <th>aZ</th>\n",
       "      <th>label</th>\n",
       "    </tr>\n",
       "  </thead>\n",
       "  <tbody>\n",
       "    <tr>\n",
       "      <th>0</th>\n",
       "      <td>-4.10</td>\n",
       "      <td>8.07</td>\n",
       "      <td>-16.36</td>\n",
       "      <td>running</td>\n",
       "    </tr>\n",
       "    <tr>\n",
       "      <th>1</th>\n",
       "      <td>-2.34</td>\n",
       "      <td>9.69</td>\n",
       "      <td>-0.33</td>\n",
       "      <td>running</td>\n",
       "    </tr>\n",
       "    <tr>\n",
       "      <th>2</th>\n",
       "      <td>0.00</td>\n",
       "      <td>0.01</td>\n",
       "      <td>-0.01</td>\n",
       "      <td>resting</td>\n",
       "    </tr>\n",
       "    <tr>\n",
       "      <th>3</th>\n",
       "      <td>-2.38</td>\n",
       "      <td>-0.54</td>\n",
       "      <td>0.65</td>\n",
       "      <td>walking</td>\n",
       "    </tr>\n",
       "    <tr>\n",
       "      <th>4</th>\n",
       "      <td>-0.70</td>\n",
       "      <td>12.93</td>\n",
       "      <td>-4.91</td>\n",
       "      <td>running</td>\n",
       "    </tr>\n",
       "    <tr>\n",
       "      <th>...</th>\n",
       "      <td>...</td>\n",
       "      <td>...</td>\n",
       "      <td>...</td>\n",
       "      <td>...</td>\n",
       "    </tr>\n",
       "    <tr>\n",
       "      <th>445</th>\n",
       "      <td>-0.01</td>\n",
       "      <td>0.00</td>\n",
       "      <td>-0.03</td>\n",
       "      <td>resting</td>\n",
       "    </tr>\n",
       "    <tr>\n",
       "      <th>446</th>\n",
       "      <td>-8.19</td>\n",
       "      <td>6.17</td>\n",
       "      <td>-18.84</td>\n",
       "      <td>running</td>\n",
       "    </tr>\n",
       "    <tr>\n",
       "      <th>447</th>\n",
       "      <td>-0.80</td>\n",
       "      <td>13.34</td>\n",
       "      <td>-0.49</td>\n",
       "      <td>running</td>\n",
       "    </tr>\n",
       "    <tr>\n",
       "      <th>448</th>\n",
       "      <td>0.00</td>\n",
       "      <td>0.00</td>\n",
       "      <td>-0.03</td>\n",
       "      <td>resting</td>\n",
       "    </tr>\n",
       "    <tr>\n",
       "      <th>449</th>\n",
       "      <td>-0.01</td>\n",
       "      <td>-0.02</td>\n",
       "      <td>-0.07</td>\n",
       "      <td>resting</td>\n",
       "    </tr>\n",
       "  </tbody>\n",
       "</table>\n",
       "<p>450 rows × 4 columns</p>\n",
       "</div>"
      ]
     },
     "metadata": {},
     "execution_count": 2
    }
   ],
   "metadata": {}
  },
  {
   "cell_type": "code",
   "execution_count": 3,
   "source": [
    "df.info()"
   ],
   "outputs": [
    {
     "output_type": "stream",
     "name": "stdout",
     "text": [
      "<class 'pandas.core.frame.DataFrame'>\n",
      "RangeIndex: 450 entries, 0 to 449\n",
      "Data columns (total 4 columns):\n",
      " #   Column  Non-Null Count  Dtype  \n",
      "---  ------  --------------  -----  \n",
      " 0   aX      450 non-null    float64\n",
      " 1   aY      450 non-null    float64\n",
      " 2   aZ      450 non-null    float64\n",
      " 3   label   450 non-null    object \n",
      "dtypes: float64(3), object(1)\n",
      "memory usage: 14.2+ KB\n"
     ]
    }
   ],
   "metadata": {}
  },
  {
   "cell_type": "code",
   "execution_count": 4,
   "source": [
    "# Estandarizamos los features columna por columna:\n",
    "\n",
    "# Declaramos la función que estandariza un dataframe (columna por columna):\n",
    "ss = StandardScaler()\n",
    "\n",
    "# Aplicamos el estandarizador a las columnas de los features:\n",
    "df[ ['aX','aY','aZ'] ]  = ss.fit_transform( df[ ['aX','aY','aZ'] ] )"
   ],
   "outputs": [],
   "metadata": {}
  },
  {
   "cell_type": "code",
   "execution_count": 5,
   "source": [
    "# Debido a que la variable 'label' es de tipo object, \n",
    "# tendremos que pasarla a un tipo numérico para poder usarla en el entrenamiento: \n",
    "\n",
    "df_encoded = pd.get_dummies(df)\n",
    "df_encoded"
   ],
   "outputs": [
    {
     "output_type": "execute_result",
     "data": {
      "text/plain": [
       "           aX        aY        aZ  label_resting  label_running  label_walking\n",
       "0   -0.916838  1.029520 -3.339321              0              1              0\n",
       "1   -0.532509  1.232700 -0.043167              0              1              0\n",
       "2   -0.021526  0.018637  0.022632              1              0              0\n",
       "3   -0.541244 -0.050343  0.158344              0              0              1\n",
       "4   -0.174384  1.639060 -0.984926              0              1              0\n",
       "..        ...       ...       ...            ...            ...            ...\n",
       "445 -0.023710  0.017383  0.018520              1              0              0\n",
       "446 -1.809967  0.791223 -3.849269              0              1              0\n",
       "447 -0.196221  1.690482 -0.076067              0              1              0\n",
       "448 -0.021526  0.017383  0.018520              1              0              0\n",
       "449 -0.023710  0.014875  0.010295              1              0              0\n",
       "\n",
       "[450 rows x 6 columns]"
      ],
      "text/html": [
       "<div>\n",
       "<style scoped>\n",
       "    .dataframe tbody tr th:only-of-type {\n",
       "        vertical-align: middle;\n",
       "    }\n",
       "\n",
       "    .dataframe tbody tr th {\n",
       "        vertical-align: top;\n",
       "    }\n",
       "\n",
       "    .dataframe thead th {\n",
       "        text-align: right;\n",
       "    }\n",
       "</style>\n",
       "<table border=\"1\" class=\"dataframe\">\n",
       "  <thead>\n",
       "    <tr style=\"text-align: right;\">\n",
       "      <th></th>\n",
       "      <th>aX</th>\n",
       "      <th>aY</th>\n",
       "      <th>aZ</th>\n",
       "      <th>label_resting</th>\n",
       "      <th>label_running</th>\n",
       "      <th>label_walking</th>\n",
       "    </tr>\n",
       "  </thead>\n",
       "  <tbody>\n",
       "    <tr>\n",
       "      <th>0</th>\n",
       "      <td>-0.916838</td>\n",
       "      <td>1.029520</td>\n",
       "      <td>-3.339321</td>\n",
       "      <td>0</td>\n",
       "      <td>1</td>\n",
       "      <td>0</td>\n",
       "    </tr>\n",
       "    <tr>\n",
       "      <th>1</th>\n",
       "      <td>-0.532509</td>\n",
       "      <td>1.232700</td>\n",
       "      <td>-0.043167</td>\n",
       "      <td>0</td>\n",
       "      <td>1</td>\n",
       "      <td>0</td>\n",
       "    </tr>\n",
       "    <tr>\n",
       "      <th>2</th>\n",
       "      <td>-0.021526</td>\n",
       "      <td>0.018637</td>\n",
       "      <td>0.022632</td>\n",
       "      <td>1</td>\n",
       "      <td>0</td>\n",
       "      <td>0</td>\n",
       "    </tr>\n",
       "    <tr>\n",
       "      <th>3</th>\n",
       "      <td>-0.541244</td>\n",
       "      <td>-0.050343</td>\n",
       "      <td>0.158344</td>\n",
       "      <td>0</td>\n",
       "      <td>0</td>\n",
       "      <td>1</td>\n",
       "    </tr>\n",
       "    <tr>\n",
       "      <th>4</th>\n",
       "      <td>-0.174384</td>\n",
       "      <td>1.639060</td>\n",
       "      <td>-0.984926</td>\n",
       "      <td>0</td>\n",
       "      <td>1</td>\n",
       "      <td>0</td>\n",
       "    </tr>\n",
       "    <tr>\n",
       "      <th>...</th>\n",
       "      <td>...</td>\n",
       "      <td>...</td>\n",
       "      <td>...</td>\n",
       "      <td>...</td>\n",
       "      <td>...</td>\n",
       "      <td>...</td>\n",
       "    </tr>\n",
       "    <tr>\n",
       "      <th>445</th>\n",
       "      <td>-0.023710</td>\n",
       "      <td>0.017383</td>\n",
       "      <td>0.018520</td>\n",
       "      <td>1</td>\n",
       "      <td>0</td>\n",
       "      <td>0</td>\n",
       "    </tr>\n",
       "    <tr>\n",
       "      <th>446</th>\n",
       "      <td>-1.809967</td>\n",
       "      <td>0.791223</td>\n",
       "      <td>-3.849269</td>\n",
       "      <td>0</td>\n",
       "      <td>1</td>\n",
       "      <td>0</td>\n",
       "    </tr>\n",
       "    <tr>\n",
       "      <th>447</th>\n",
       "      <td>-0.196221</td>\n",
       "      <td>1.690482</td>\n",
       "      <td>-0.076067</td>\n",
       "      <td>0</td>\n",
       "      <td>1</td>\n",
       "      <td>0</td>\n",
       "    </tr>\n",
       "    <tr>\n",
       "      <th>448</th>\n",
       "      <td>-0.021526</td>\n",
       "      <td>0.017383</td>\n",
       "      <td>0.018520</td>\n",
       "      <td>1</td>\n",
       "      <td>0</td>\n",
       "      <td>0</td>\n",
       "    </tr>\n",
       "    <tr>\n",
       "      <th>449</th>\n",
       "      <td>-0.023710</td>\n",
       "      <td>0.014875</td>\n",
       "      <td>0.010295</td>\n",
       "      <td>1</td>\n",
       "      <td>0</td>\n",
       "      <td>0</td>\n",
       "    </tr>\n",
       "  </tbody>\n",
       "</table>\n",
       "<p>450 rows × 6 columns</p>\n",
       "</div>"
      ]
     },
     "metadata": {},
     "execution_count": 5
    }
   ],
   "metadata": {}
  },
  {
   "cell_type": "code",
   "execution_count": 6,
   "source": [
    "# Definimos las clases de las etiquetas:\n",
    "Clases = ['resting', 'running', 'walking']\n",
    "\n",
    "n_clases = len(Clases)\n",
    "\n",
    "Clases"
   ],
   "outputs": [
    {
     "output_type": "execute_result",
     "data": {
      "text/plain": [
       "['resting', 'running', 'walking']"
      ]
     },
     "metadata": {},
     "execution_count": 6
    }
   ],
   "metadata": {}
  },
  {
   "cell_type": "code",
   "execution_count": 7,
   "source": [
    "# Ya que todas las variables son numéricas separamos los features y los labels:\n",
    "features = df_encoded[ ['aX','aY','aZ'] ].values\n",
    "labels = df_encoded[ ['label_resting','label_running','label_walking'] ].values\n",
    "\n",
    "# separamos los conjuntos de entrenamiento y pruebas:\n",
    "X_train, X_test, y_train, y_test = train_test_split( features, labels, train_size=0.8 ,test_size=0.2, random_state=0)"
   ],
   "outputs": [],
   "metadata": {}
  },
  {
   "cell_type": "markdown",
   "source": [
    "## Declaramos el modelo y lo entrenamos:"
   ],
   "metadata": {}
  },
  {
   "cell_type": "code",
   "execution_count": 8,
   "source": [
    "# creamos el clasificador: árbol de decisión\n",
    "clasif_DT = DecisionTreeClassifier()"
   ],
   "outputs": [],
   "metadata": {}
  },
  {
   "cell_type": "code",
   "execution_count": 9,
   "source": [
    "# Entrenamos el modelo con los datos de entrenamiento: \n",
    "clasif_DT.fit(X_train, y_train)"
   ],
   "outputs": [
    {
     "output_type": "execute_result",
     "data": {
      "text/plain": [
       "DecisionTreeClassifier()"
      ]
     },
     "metadata": {},
     "execution_count": 9
    }
   ],
   "metadata": {}
  },
  {
   "cell_type": "code",
   "execution_count": 10,
   "source": [
    "# Calculamos la precisión con datos de entrenamiento:\n",
    "acc_train = clasif_DT.score(X_train, y_train)\n",
    "print('El accuracy con los datos de entrenamiento es:' , acc_train)\n",
    "\n",
    "# Calculamos la precisión con datos de prueba:\n",
    "acc_test = clasif_DT.score(X_test, y_test)\n",
    "print('El accuracy con los datos de prueba es:' , acc_test)"
   ],
   "outputs": [
    {
     "output_type": "stream",
     "name": "stdout",
     "text": [
      "El accuracy con los datos de entrenamiento es: 1.0\n",
      "El accuracy con los datos de prueba es: 0.9333333333333333\n"
     ]
    }
   ],
   "metadata": {}
  },
  {
   "cell_type": "markdown",
   "source": [
    "Debido a que el accuracy con datos de entrenamiento y prueba son muy cercanos, no hay Overfitting"
   ],
   "metadata": {}
  },
  {
   "cell_type": "markdown",
   "source": [
    "## Ya que esta entrenado el modelo evaluamos su precisión mediante Cross Validation:"
   ],
   "metadata": {}
  },
  {
   "cell_type": "code",
   "execution_count": 11,
   "source": [
    "## Definimos el separador K-Fold para hacer Cross-Validation, aplicado a los datos de entrenamiento: \n",
    "\n",
    "n_subsets = 10 # numero de particiones para K-fold\n",
    "\n",
    "kf = KFold(n_splits= n_subsets , shuffle=True, random_state=2)"
   ],
   "outputs": [],
   "metadata": {}
  },
  {
   "cell_type": "code",
   "execution_count": 12,
   "source": [
    "# Realizamos la Cross Validation:\n",
    "scores_CV = cross_val_score(clasif_DT,X_train, y_train , cv=kf, scoring='accuracy')"
   ],
   "outputs": [],
   "metadata": {}
  },
  {
   "cell_type": "code",
   "execution_count": 13,
   "source": [
    "print(\"Accuracy en cada iteración de Cross-Validation:\", scores_CV)\n",
    " \n",
    "print(\"Accuracy final con Cross-Validation:\", scores_CV.mean())"
   ],
   "outputs": [
    {
     "output_type": "stream",
     "name": "stdout",
     "text": [
      "Accuracy en cada iteración de Cross-Validation: [0.94444444 0.86111111 0.97222222 0.91666667 0.91666667 0.94444444\n",
      " 1.         0.94444444 0.94444444 0.97222222]\n",
      "Accuracy final con Cross-Validation: 0.9416666666666667\n"
     ]
    }
   ],
   "metadata": {}
  },
  {
   "cell_type": "markdown",
   "source": [
    "## A continuación hacemos predicciones con los datos de pruebas:"
   ],
   "metadata": {}
  },
  {
   "cell_type": "code",
   "execution_count": 14,
   "source": [
    "# Realizamos Prediccion con los datos de prueba:\n",
    "y_test_pred = clasif_DT.predict(X_test)\n",
    "y_test_pred.shape"
   ],
   "outputs": [
    {
     "output_type": "execute_result",
     "data": {
      "text/plain": [
       "(90, 3)"
      ]
     },
     "metadata": {},
     "execution_count": 14
    }
   ],
   "metadata": {}
  },
  {
   "cell_type": "code",
   "execution_count": 15,
   "source": [
    "# Predecimos la etiqueta de un valor en particular:\n",
    "\n",
    "k=57 #<-- seleccionamos algun indice ( <90 )\n",
    "\n",
    "# feature:\n",
    "xk_test = X_test[k]\n",
    "\n",
    "# label real:  vector de la forma --> [*,*,*]\n",
    "yk_test = y_test[k]\n",
    "\n",
    "# label predicho: vector de la forma --> [*,*,*]\n",
    "yk_predict = y_test_pred[k]\n",
    "\n",
    "# Extraemos el nombre de las etiquetas:\n",
    "estado_real = Clases[ yk_test.argmax() ]\n",
    "estado_pred = Clases[  yk_predict.argmax() ]\n",
    "\n",
    "# Obs: 'argmax()' regresa el índice del valor más grande en un arreglo\n",
    "# por ejemplo:  [0,0,1].argmax() = 2\n",
    "\n",
    "print('Estado real:',estado_real,'\\nEstado predicho:',estado_pred)"
   ],
   "outputs": [
    {
     "output_type": "stream",
     "name": "stdout",
     "text": [
      "Estado real: walking \n",
      "Estado predicho: walking\n"
     ]
    }
   ],
   "metadata": {}
  },
  {
   "cell_type": "code",
   "execution_count": 16,
   "source": [
    "# Construimos la matriz de confusión para visualizar la clasificación:\n",
    "\n",
    "test_class_names = []\n",
    "pred_class_names = []\n",
    "\n",
    "for i in range(len(y_test)):\n",
    "\n",
    "    # label real: vector de la forma --> [*,*,*]\n",
    "    yk_test = y_test[i]\n",
    "\n",
    "    # label predicho: vector de la forma --> [*,*,*]\n",
    "    yk_pred = y_test_pred[i]\n",
    "\n",
    "    # Extraemos el nombre de las etiquetas:\n",
    "    estado_real = Clases[ yk_test.argmax() ]\n",
    "    estado_pred = Clases[ yk_pred.argmax() ]\n",
    "\n",
    "    # Obs: 'argmax()' regresa el índice del valor más grande en un arreglo\n",
    "    # por ejemplo:  [0,0,1].argmax() = 2\n",
    "\n",
    "    # Vamos agregando valores a las listas:\n",
    "    test_class_names.append( estado_real )\n",
    "    pred_class_names.append( estado_pred )"
   ],
   "outputs": [],
   "metadata": {}
  },
  {
   "cell_type": "code",
   "execution_count": 17,
   "source": [
    "# Generamos matriz de confusión usando los nombres de las etiquetas de prueba y predichas:\n",
    "MC_RF = confusion_matrix(test_class_names, pred_class_names)\n",
    "print('Matriz de confusión: \\n',MC_RF)"
   ],
   "outputs": [
    {
     "output_type": "stream",
     "name": "stdout",
     "text": [
      "Matriz de confusión: \n",
      " [[26  0  0]\n",
      " [ 0 22  2]\n",
      " [ 1  3 36]]\n"
     ]
    }
   ],
   "metadata": {}
  },
  {
   "cell_type": "code",
   "execution_count": 18,
   "source": [
    "# Graficamos matriz de confusión:\n",
    "plt.figure()\n",
    "plt.imshow(MC_RF)\n",
    "plt.title('matriz de confusion con RandomForestClassifier ')\n",
    "\n",
    "plt.xticks( range(n_clases) , Clases )\n",
    "plt.yticks( range(n_clases) , Clases )\n",
    "\n",
    "for i in range( n_clases ):\n",
    "    for j in range( n_clases):\n",
    "        plt.text(j,i, MC_RF[i,j] , ha='center', va='center' ,color='red')\n",
    "\n",
    "plt.show()"
   ],
   "outputs": [
    {
     "output_type": "display_data",
     "data": {
      "text/plain": [
       "<Figure size 432x288 with 1 Axes>"
      ],
      "image/png": "[encoded data removed]"
     },
     "metadata": {
      "needs_background": "light"
     }
    }
   ],
   "metadata": {}
  },
  {
   "cell_type": "code",
   "execution_count": null,
   "source": [],
   "outputs": [],
   "metadata": {}
  }
 ],
 "metadata": {
  "orig_nbformat": 4,
  "language_info": {
   "name": "python",
   "version": "3.8.10",
   "mimetype": "text/x-python",
   "codemirror_mode": {
    "name": "ipython",
    "version": 3
   },
   "pygments_lexer": "ipython3",
   "nbconvert_exporter": "python",
   "file_extension": ".py"
  },
  "kernelspec": {
   "name": "python3",
   "display_name": "Python 3.8.10 64-bit"
  },
  "interpreter": {
   "hash": "31f2aee4e71d21fbe5cf8b01ff0e069b9275f58929596ceb00d14d90e3e16cd6"
  }
 },
 "nbformat": 4,
 "nbformat_minor": 2
}